{
  "nbformat": 4,
  "nbformat_minor": 0,
  "metadata": {
    "colab": {
      "name": "Encrypt & Decrypt.ipynb",
      "provenance": []
    },
    "kernelspec": {
      "name": "python3",
      "display_name": "Python 3"
    }
  },
  "cells": [
    {
      "cell_type": "markdown",
      "metadata": {
        "id": "9Qr8LrUmn5Iy",
        "colab_type": "text"
      },
      "source": [
        "Encrypt"
      ]
    },
    {
      "cell_type": "code",
      "metadata": {
        "id": "Mngwok65nsAq",
        "colab_type": "code",
        "colab": {
          "base_uri": "https://localhost:8080/",
          "height": 141
        },
        "outputId": "6c31bc8a-d2f6-4c54-cbfa-4381977d3463"
      },
      "source": [
        "print('Welcome')\n",
        "print(\"Rules\")\n",
        "print(\"Cannt Paste Inside or error will occur\")\n",
        "print('You CAN Copy ')\n",
        "print(\"if something don't look right try again\")\n",
        "\n",
        "message=input ('Enter message you want to encrypt :')\n",
        "alphabet=\"abcdefghijklmnopqrstuvwxyz1234567890!@#$%^&*()_+{}|:<>?=-[]\\;',./`~ABCDEFGHIJKLMNOPQRSTUVWXYZ \"\n",
        "key = input(\"Enter a encrypt key of your Choice (at lease 8 Numbers long): \")\n",
        "encrypt =''\n",
        "for i in message:\n",
        "  position=alphabet.find(i)\n",
        "  newposition=(position+ int(key) )%94\n",
        "  encrypt+=alphabet [newposition]\n",
        "output = (encrypt)\n",
        "print ('Encrypted Message: '+ (output) )\n",
        "print ('Encryption Key: '+ (key) )"
      ],
      "execution_count": null,
      "outputs": [
        {
          "output_type": "stream",
          "text": [
            "Welcome\n",
            "Rules\n",
            "Cannt Paste Inside or error will occur\n",
            "You CAN Copy \n",
            "if something don't look right try again\n"
          ],
          "name": "stdout"
        }
      ]
    },
    {
      "cell_type": "code",
      "metadata": {
        "id": "RvStEWyPoBE4",
        "colab_type": "code",
        "colab": {
          "base_uri": "https://localhost:8080/",
          "height": 102
        },
        "outputId": "e7aaa0de-74b6-43c3-b119-dcfce33eee2f"
      },
      "source": [
        "print ('Welcome')\n",
        "import random\n",
        "for i in range(1):\n",
        "  keygen = (random.randint(11111111111, 999999999999999))\n",
        "print (\"\")\n",
        "message=input ('Enter message you want to decrypt:')\n",
        "alphabet=\"abcdefghijklmnopqrstuvwxyz1234567890!@#$%^&*()_+{}|:<>?=-[]\\;',./`~ABCDEFGHIJKLMNOPQRSTUVWXYZ \"\n",
        "key = input(\"Encryption Key:\")\n",
        "encrypt =''\n",
        "for i in message:\n",
        "  position=alphabet.find(i)\n",
        "  newposition=(position+ -int(key) )%94\n",
        "  encrypt+=alphabet [newposition]\n",
        "output = (encrypt)\n",
        "keyout = (keygen)\n",
        "print ('Decrypted message: '+ (output) )\n",
        "\n"
      ],
      "execution_count": null,
      "outputs": [
        {
          "output_type": "stream",
          "text": [
            "Welcome\n",
            "\n",
            "Enter message you want to decrypt:7-..~\n",
            "Encryption Key:10101010\n",
            "Decrypted message: Hello\n"
          ],
          "name": "stdout"
        }
      ]
    }
  ]
}